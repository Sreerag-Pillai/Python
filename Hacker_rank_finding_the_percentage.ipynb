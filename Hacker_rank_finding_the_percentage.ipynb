{
  "nbformat": 4,
  "nbformat_minor": 0,
  "metadata": {
    "colab": {
      "provenance": []
    },
    "kernelspec": {
      "name": "python3",
      "display_name": "Python 3"
    },
    "language_info": {
      "name": "python"
    }
  },
  "cells": [
    {
      "cell_type": "markdown",
      "source": [
        "\n",
        "The provided code stub will read in a dictionary containing key/value pairs of name:[marks] for a list of students. Print the average of the marks array for the student name provided, showing 2 places after the decimal.\n",
        "\n",
        "Example\n",
        "'alpha':[20,30,40]\n",
        "'beta': [30,50,70]\n",
        "query_name = 'beta'\n",
        "average = 50.00\n",
        "\n",
        "\n",
        "\n",
        "Input Format\n",
        "\n",
        "The first line contains the integer n, the number of students' records. The next n lines contain the names and marks obtained by a student, each value separated by a space. The final line contains query_name, the name of a student to query.\n",
        "\n",
        "Constraints\n",
        "2<= n <= 10    \n",
        "0<= marks[i] <= 100\n",
        "length of marks array = 3\n",
        "\n",
        "Output Format\n",
        "\n",
        "Print one line: The average of the marks obtained by the particular student correct to 2 decimal places.\n",
        "\n",
        "Sample Input 0\n",
        "\n",
        "3\n",
        "Krishna 67 68 69\n",
        "Arjun 70 98 63\n",
        "Malika 52 56 60\n",
        "Malika\n",
        "Sample Output 0\n",
        "\n",
        "56.00\n",
        "Explanation 0\n",
        "\n",
        "Marks for Malika are  whose average is \n",
        "\n",
        "Sample Input 1\n",
        "\n",
        "2\n",
        "Harsh 25 26.5 28\n",
        "Anurag 26 28 30\n",
        "Harsh\n",
        "Sample Output 1\n",
        "\n",
        "26.50\n"
      ],
      "metadata": {
        "id": "FKlrT9PHp4gM"
      }
    },
    {
      "cell_type": "code",
      "source": [
        "n = int(input())\n",
        "student_marks = {}\n",
        "\n",
        "for _ in range(n):\n",
        "    name, *line = input().split()\n",
        "    scores = list(map(float, line))\n",
        "    student_marks[name] = scores\n",
        "\n",
        "#defining average method to calculate average from the dictionary\n",
        "def average(name):\n",
        "    list = student_marks[name]\n",
        "    count = 0\n",
        "    for i in range(len(list)):\n",
        "        count += 1\n",
        "    average = sum(list)/count\n",
        "    print(f'{average:.2f}')\n",
        "query_name = input()\n",
        "average(query_name)"
      ],
      "metadata": {
        "colab": {
          "base_uri": "https://localhost:8080/"
        },
        "id": "hq6TPwppjkvA",
        "outputId": "8952f2cd-c647-4a31-b1e1-e36a314c5731"
      },
      "execution_count": 16,
      "outputs": [
        {
          "output_type": "stream",
          "name": "stdout",
          "text": [
            "100.00\n"
          ]
        }
      ]
    },
    {
      "cell_type": "markdown",
      "source": [],
      "metadata": {
        "id": "ql4obfQLp1h9"
      }
    }
  ]
}