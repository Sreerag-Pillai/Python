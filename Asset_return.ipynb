{
  "nbformat": 4,
  "nbformat_minor": 0,
  "metadata": {
    "colab": {
      "provenance": []
    },
    "kernelspec": {
      "name": "python3",
      "display_name": "Python 3"
    },
    "language_info": {
      "name": "python"
    }
  },
  "cells": [
    {
      "cell_type": "markdown",
      "source": [
        "# Asset return\n",
        "\n",
        "\n",
        "\n",
        "*   The code is a Python script that obtains stock information for a given ticker symbol from the yfinance library. \n",
        "* It asks the user for a desired ticker symbol and year for which to obtain the stock information. \n",
        "* The script calculates moving averages for 20, 50, 100 and 200 days and plots the close price and moving averages on a graph. \n",
        "* It also prints the market cap of the stock. \n",
        "* Finally, the script plots a graph of the 5-year return of the stock in percentage.\n",
        "\n",
        "\n"
      ],
      "metadata": {
        "id": "zV81cnPa-yed"
      }
    },
    {
      "cell_type": "code",
      "execution_count": 15,
      "metadata": {
        "colab": {
          "base_uri": "https://localhost:8080/"
        },
        "id": "8ugSVKI2oF-l",
        "outputId": "2769a2e6-4cd3-4009-8679-325ae0711bc9"
      },
      "outputs": [
        {
          "output_type": "stream",
          "name": "stdout",
          "text": [
            "Looking in indexes: https://pypi.org/simple, https://us-python.pkg.dev/colab-wheels/public/simple/\n",
            "Requirement already satisfied: yfinance in /usr/local/lib/python3.8/dist-packages (0.2.9)\n",
            "Requirement already satisfied: pandas in /usr/local/lib/python3.8/dist-packages (1.3.5)\n",
            "Requirement already satisfied: matplotlib in /usr/local/lib/python3.8/dist-packages (3.2.2)\n",
            "Requirement already satisfied: cryptography>=3.3.2 in /usr/local/lib/python3.8/dist-packages (from yfinance) (39.0.0)\n",
            "Requirement already satisfied: beautifulsoup4>=4.11.1 in /usr/local/lib/python3.8/dist-packages (from yfinance) (4.11.2)\n",
            "Requirement already satisfied: appdirs>=1.4.4 in /usr/local/lib/python3.8/dist-packages (from yfinance) (1.4.4)\n",
            "Requirement already satisfied: html5lib>=1.1 in /usr/local/lib/python3.8/dist-packages (from yfinance) (1.1)\n",
            "Requirement already satisfied: frozendict>=2.3.4 in /usr/local/lib/python3.8/dist-packages (from yfinance) (2.3.4)\n",
            "Requirement already satisfied: multitasking>=0.0.7 in /usr/local/lib/python3.8/dist-packages (from yfinance) (0.0.11)\n",
            "Requirement already satisfied: requests>=2.26 in /usr/local/lib/python3.8/dist-packages (from yfinance) (2.28.2)\n",
            "Requirement already satisfied: pytz>=2022.5 in /usr/local/lib/python3.8/dist-packages (from yfinance) (2022.7.1)\n",
            "Requirement already satisfied: numpy>=1.16.5 in /usr/local/lib/python3.8/dist-packages (from yfinance) (1.21.6)\n",
            "Requirement already satisfied: lxml>=4.9.1 in /usr/local/lib/python3.8/dist-packages (from yfinance) (4.9.2)\n",
            "Requirement already satisfied: python-dateutil>=2.7.3 in /usr/local/lib/python3.8/dist-packages (from pandas) (2.8.2)\n",
            "Requirement already satisfied: pyparsing!=2.0.4,!=2.1.2,!=2.1.6,>=2.0.1 in /usr/local/lib/python3.8/dist-packages (from matplotlib) (3.0.9)\n",
            "Requirement already satisfied: kiwisolver>=1.0.1 in /usr/local/lib/python3.8/dist-packages (from matplotlib) (1.4.4)\n",
            "Requirement already satisfied: cycler>=0.10 in /usr/local/lib/python3.8/dist-packages (from matplotlib) (0.11.0)\n",
            "Requirement already satisfied: soupsieve>1.2 in /usr/local/lib/python3.8/dist-packages (from beautifulsoup4>=4.11.1->yfinance) (2.3.2.post1)\n",
            "Requirement already satisfied: cffi>=1.12 in /usr/local/lib/python3.8/dist-packages (from cryptography>=3.3.2->yfinance) (1.15.1)\n",
            "Requirement already satisfied: six>=1.9 in /usr/local/lib/python3.8/dist-packages (from html5lib>=1.1->yfinance) (1.15.0)\n",
            "Requirement already satisfied: webencodings in /usr/local/lib/python3.8/dist-packages (from html5lib>=1.1->yfinance) (0.5.1)\n",
            "Requirement already satisfied: idna<4,>=2.5 in /usr/local/lib/python3.8/dist-packages (from requests>=2.26->yfinance) (2.10)\n",
            "Requirement already satisfied: urllib3<1.27,>=1.21.1 in /usr/local/lib/python3.8/dist-packages (from requests>=2.26->yfinance) (1.24.3)\n",
            "Requirement already satisfied: charset-normalizer<4,>=2 in /usr/local/lib/python3.8/dist-packages (from requests>=2.26->yfinance) (2.1.1)\n",
            "Requirement already satisfied: certifi>=2017.4.17 in /usr/local/lib/python3.8/dist-packages (from requests>=2.26->yfinance) (2022.12.7)\n",
            "Requirement already satisfied: pycparser in /usr/local/lib/python3.8/dist-packages (from cffi>=1.12->cryptography>=3.3.2->yfinance) (2.21)\n"
          ]
        }
      ],
      "source": [
        "!pip install yfinance pandas matplotlib\n",
        "\n",
        "import yfinance as yf\n",
        "import pandas as pd\n",
        "import matplotlib.pyplot as plt"
      ]
    },
    {
      "cell_type": "code",
      "source": [
        "\n",
        "\n",
        "ticker = str(input(\"Enter ticker symbol of your desire:\"))\n",
        "\n",
        "# Getting stock data from the yf\n",
        "data = yf.Ticker(ticker).info\n",
        "\n",
        "User_year = input('Enter desired year:')\n",
        "\n",
        "year = str(User_year)+'y'\n",
        "\n",
        "# Get historical price data for user desired year/s\n",
        "df = yf.Ticker(ticker).history(period= year)\n",
        "\n",
        "# Calculate moving averages for 20, 50, 100 and 200 day\n",
        "df[\"20d\"] = df[\"Close\"].rolling(window=20).mean()\n",
        "df[\"50d\"] = df[\"Close\"].rolling(window=50).mean()\n",
        "df[\"100d\"] = df[\"Close\"].rolling(window=100).mean()\n",
        "df[\"200d\"] = df[\"Close\"].rolling(window=200).mean()\n",
        "\n",
        "print(f\"**********************\\n\")\n",
        "# Print some additional information about the stock\n",
        "print(f\"Ticker Symbol: {ticker.upper()}\")\n",
        "print(f\"Desired year/s of return: {year}\")\n",
        "\n",
        "#returning market cap from data dictionary\n",
        "#fast_info.keys()\n",
        "stock = yf.Ticker(ticker)\n",
        "fast_info = stock.fast_info\n",
        "print(f\"Market Cap of {ticker.upper()} is: {fast_info['market_cap']}\\n\")\n",
        "\n",
        "# Plot price and moving averages using matplotlib\n",
        "plt.figure(figsize=(12,7))\n",
        "plt.plot(df[\"Close\"], label=\"Close Price\")\n",
        "plt.plot(df[\"20d\"], label=\"20 Day MA\")\n",
        "plt.plot(df[\"50d\"], label=\"50 Day MA\")\n",
        "plt.plot(df[\"100d\"], label=\"100 Day MA\")\n",
        "plt.plot(df[\"200d\"], label=\"200 Day MA\")\n",
        "plt.legend(loc='best')\n",
        "plt.xlabel(\"Date\")\n",
        "plt.ylabel(\"Price\")\n",
        "plt.title(f\"{ticker.upper()} Stock Price and Moving Averages\")\n",
        "plt.show()\n",
        "\n",
        "print()\n",
        "\n",
        "# Plotting  5 year return\n",
        "plt.figure(figsize=(12,7))\n",
        "plt.plot((df[\"Close\"] - df[\"Close\"].iloc[0]) / df[\"Close\"].iloc[0] * 100)\n",
        "plt.xlabel(\"Date\")\n",
        "plt.ylabel(\"Return (%)\")\n",
        "plt.title(f\"{ticker.upper()} {User_year} Year Return\")\n",
        "plt.show()"
      ],
      "metadata": {
        "colab": {
          "base_uri": "https://localhost:8080/",
          "height": 1000
        },
        "id": "ZiUAcpshpom3",
        "outputId": "d178d97e-2932-421f-df4a-9a90771eae80"
      },
      "execution_count": 20,
      "outputs": [
        {
          "output_type": "stream",
          "name": "stdout",
          "text": [
            "Enter ticker symbol of your desire:mttr\n",
            "Enter desired year:.5\n",
            "**********************\n",
            "\n",
            "Ticker Symbol: MTTR\n",
            "Desired year/s of return: .5y\n",
            "Market Cap of MTTR is: 1103784935.3284836\n",
            "\n"
          ]
        },
        {
          "output_type": "display_data",
          "data": {
            "text/plain": [
              "<Figure size 864x504 with 1 Axes>"
            ],
            "image/png": "[encoded data removed]"
          },
          "metadata": {
            "needs_background": "light"
          }
        },
        {
          "output_type": "stream",
          "name": "stdout",
          "text": [
            "\n"
          ]
        },
        {
          "output_type": "display_data",
          "data": {
            "text/plain": [
              "<Figure size 864x504 with 1 Axes>"
            ],
            "image/png": "[encoded data removed]"
          },
          "metadata": {
            "needs_background": "light"
          }
        }
      ]
    },
    {
      "cell_type": "code",
      "source": [],
      "metadata": {
        "id": "9vLF4tVwujam"
      },
      "execution_count": 16,
      "outputs": []
    }
  ]
}